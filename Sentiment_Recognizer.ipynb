{
  "nbformat": 4,
  "nbformat_minor": 0,
  "metadata": {
    "colab": {
      "name": "Sentiment_Recognizer.ipynb",
      "provenance": [],
      "collapsed_sections": [],
      "mount_file_id": "1HCKejrQcm43an7OANhC3QmwZb0F-Z4xi",
      "authorship_tag": "ABX9TyPcZAg/aHWGmGcF2YHE1SpL",
      "include_colab_link": true
    },
    "kernelspec": {
      "name": "python3",
      "display_name": "Python 3"
    },
    "language_info": {
      "name": "python"
    }
  },
  "cells": [
    {
      "cell_type": "markdown",
      "metadata": {
        "id": "view-in-github",
        "colab_type": "text"
      },
      "source": [
        "<a href=\"https://colab.research.google.com/github/dasnikita/Sentiment-Analysis/blob/main/Sentiment_Recognizer.ipynb\" target=\"_parent\"><img src=\"https://colab.research.google.com/assets/colab-badge.svg\" alt=\"Open In Colab\"/></a>"
      ]
    },
    {
      "cell_type": "code",
      "source": [
        "from google.colab import drive\n",
        "drive.mount('/content/drive')"
      ],
      "metadata": {
        "colab": {
          "base_uri": "https://localhost:8080/"
        },
        "id": "AQ8Q8ej2_xzQ",
        "outputId": "913e4d8f-a7d1-405e-e526-7a7cb829fa45"
      },
      "execution_count": 6,
      "outputs": [
        {
          "output_type": "stream",
          "name": "stdout",
          "text": [
            "Drive already mounted at /content/drive; to attempt to forcibly remount, call drive.mount(\"/content/drive\", force_remount=True).\n"
          ]
        }
      ]
    },
    {
      "cell_type": "code",
      "source": [
        "%%writefile reviews.py\n",
        "from logging import error\n",
        "import pickle\n",
        "import streamlit as st \n",
        "\n",
        "loaded_model = pickle.load(open('/content/drive/MyDrive/LR_Sentiment.pkl', 'rb'))\n",
        "loaded_tfidf = pickle.load(open('/content/drive/MyDrive/tf_idf_RestaurantReviews.pkl','rb')) \n",
        "\n",
        "def UI_Page():\n",
        "    st.title(\"Restaurant Review Sentiment Analysis\") \n",
        "    review = st.text_input(\"Enter your Restaurant Review: \") \n",
        "    ok=st.button(\"predict the class\")\n",
        "    if ok == True:\n",
        "        if len(review) == 0:\n",
        "            st.error('Please enter some data')\n",
        "            return None\n",
        "        try:\n",
        "            review = [review] \n",
        "            review = loaded_tfidf.transform(review).toarray() \n",
        "            result = loaded_model.predict(review) \n",
        "            if result[0] == 1:\n",
        "                st.success(\"The review is positive\") \n",
        "            elif result[0] == 0:\n",
        "                st.error(\"The review is negative\") \n",
        "            else:\n",
        "                st.error(\"Oops! Something went wrong\") \n",
        "        except Exception as e:\n",
        "            st.error('Enter some data: ')            \n",
        "\n",
        "\n",
        "UI_Page()"
      ],
      "metadata": {
        "colab": {
          "base_uri": "https://localhost:8080/"
        },
        "id": "eOBP276VBAoy",
        "outputId": "2f8444b5-f0e4-469b-e473-3cb0d0dee106"
      },
      "execution_count": 13,
      "outputs": [
        {
          "output_type": "stream",
          "name": "stdout",
          "text": [
            "Overwriting reviews.py\n"
          ]
        }
      ]
    },
    {
      "cell_type": "code",
      "source": [
        "! streamlit run reviews.py & npx localtunnel --port 8501"
      ],
      "metadata": {
        "colab": {
          "base_uri": "https://localhost:8080/"
        },
        "id": "3v2ArZEeB6_I",
        "outputId": "de7e4fdf-012a-4a70-ad8e-dae361a1a442"
      },
      "execution_count": null,
      "outputs": [
        {
          "output_type": "stream",
          "name": "stdout",
          "text": [
            "\u001b[0m\n",
            "\u001b[34m\u001b[1m  You can now view your Streamlit app in your browser.\u001b[0m\n",
            "\u001b[0m\n",
            "\u001b[34m  Network URL: \u001b[0m\u001b[1mhttp://172.28.0.2:8501\u001b[0m\n",
            "\u001b[34m  External URL: \u001b[0m\u001b[1mhttp://34.73.234.252:8501\u001b[0m\n",
            "\u001b[0m\n",
            "\u001b[K\u001b[?25hnpx: installed 22 in 4.78s\n",
            "your url is: https://nice-treefrog-22.loca.lt\n"
          ]
        }
      ]
    },
    {
      "cell_type": "code",
      "source": [
        ""
      ],
      "metadata": {
        "id": "ggqJk7v5N8E6"
      },
      "execution_count": null,
      "outputs": []
    }
  ]
}